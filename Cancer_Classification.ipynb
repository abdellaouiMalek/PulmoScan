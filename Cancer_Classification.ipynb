{
 "cells": [
  {
   "cell_type": "markdown",
   "metadata": {},
   "source": [
    "### Imports\n"
   ]
  },
  {
   "cell_type": "code",
   "execution_count": 6,
   "metadata": {},
   "outputs": [],
   "source": [
    "import numpy as np\n",
    "import pandas as pd\n",
    "import SimpleITK as sitk\n",
    "import os\n",
    "import matplotlib.pyplot as plt\n",
    "from matplotlib.widgets import Slider\n",
    "import matplotlib.image as mpimg\n",
    "from scipy import ndimage\n",
    "from scipy.stats import gaussian_kde\n",
    "import seaborn as sns\n",
    "from skimage import morphology\n",
    "\n",
    "\n",
    "\n",
    "%matplotlib widget"
   ]
  },
  {
   "cell_type": "markdown",
   "metadata": {},
   "source": [
    "### Reading Data"
   ]
  },
  {
   "cell_type": "code",
   "execution_count": null,
   "metadata": {},
   "outputs": [],
   "source": [
    "def load_itk_image(filename):\n",
    "    itkimage = sitk.ReadImage(filename)\n",
    "\n",
    "    numpyImage = sitk.GetArrayFromImage(itkimage)\n",
    "    numpyOrigin = np.array(list(reversed(itkimage.GetOrigin())))\n",
    "    numpySpacing = np.array(list(reversed(itkimage.GetSpacing())))\n",
    "\n",
    "    return numpyImage, numpyOrigin, numpySpacing\n",
    "def read_BMP_3D_dataset(root_dir):\n",
    "    Dataset={}\n",
    "    subsets = [d for d in os.listdir(root_dir) if os.path.isdir(os.path.join(root_dir, d))]\n",
    "\n",
    "    for subset in subsets:\n",
    "        bmp_files = [f for f in os.listdir(os.path.join(root_dir, subset)) if f.endswith(\".bmp\")]\n",
    "        if subset not in Dataset:\n",
    "            Dataset[subset] = {}\n",
    "\n",
    "        for index, file in enumerate(bmp_files):\n",
    "            Dataset[subset][f\"CT_{index}\"] = file\n",
    "\n",
    "    return Dataset"
   ]
  },
  {
   "cell_type": "code",
   "execution_count": 14,
   "metadata": {},
   "outputs": [
    {
     "name": "stdout",
     "output_type": "stream",
     "text": [
      "Le fichier CT_0 dans le subset 0001 est : 0.bmp\n"
     ]
    }
   ],
   "source": [
    "if __name__ == \"__main__\":\n",
    "    # Charger le dataset\n",
    "    Data = read_BMP_3D_dataset(\"Data/BMP_3D\")\n",
    "    \n",
    "    # Exemple : Accéder à une valeur spécifique\n",
    "    subset_name = \"0001\"  # Nom du subset que tu veux explorer\n",
    "    file_key = \"CT_0\"     # Clé du fichier dans ce subset\n",
    "\n",
    "    # Accéder à la valeur\n",
    "    if subset_name in Data:\n",
    "        subset_value = Data[subset_name]  # Accède aux fichiers dans le subset\n",
    "        if file_key in subset_value:\n",
    "            value_ = subset_value[file_key]  # Cela correspond au nom du fichier BMP\n",
    "            print(f\"Le fichier {file_key} dans le subset {subset_name} est : {value_}\")\n",
    "        else:\n",
    "            print(f\"Clé {file_key} non trouvée dans le subset {subset_name}.\")\n",
    "    else:\n",
    "        print(f\"Subset {subset_name} non trouvé.\")\n"
   ]
  },
  {
   "cell_type": "code",
   "execution_count": 18,
   "metadata": {},
   "outputs": [],
   "source": [
    "def load_csv(filename):\n",
    "    return pd.read_csv(f\"evaluationScript/annotations/{filename}\")"
   ]
  },
  {
   "cell_type": "code",
   "execution_count": 19,
   "metadata": {},
   "outputs": [],
   "source": [
    "def basic_statistics(data):\n",
    "    print(\"Infos:\\n\", data.info())\n",
    "    print(\"Description:\\n\", data.describe())\n",
    "    print(\"Presence of null values:\\n\")\n",
    "    print(data.isnull().sum())"
   ]
  },
  {
   "cell_type": "code",
   "execution_count": 20,
   "metadata": {},
   "outputs": [
    {
     "name": "stdout",
     "output_type": "stream",
     "text": [
      "<class 'pandas.core.frame.DataFrame'>\n",
      "RangeIndex: 330 entries, 0 to 329\n",
      "Data columns (total 8 columns):\n",
      " #   Column       Non-Null Count  Dtype  \n",
      "---  ------       --------------  -----  \n",
      " 0   id           330 non-null    int64  \n",
      " 1   image        330 non-null    object \n",
      " 2   x_center     330 non-null    float64\n",
      " 3   y_center     330 non-null    float64\n",
      " 4   z_center     330 non-null    float64\n",
      " 5   radius_mm    330 non-null    float64\n",
      " 6   diameter_mm  330 non-null    object \n",
      " 7   label        330 non-null    object \n",
      "dtypes: float64(4), int64(1), object(3)\n",
      "memory usage: 20.8+ KB\n",
      "Infos:\n",
      " None\n",
      "Description:\n",
      "                id    x_center    y_center     z_center   radius_mm\n",
      "count  330.000000  330.000000  330.000000   330.000000  330.000000\n",
      "mean    55.375758   -3.969165  -51.596845  -288.401122    9.036256\n",
      "std     24.939770   73.593000   89.756687   830.611775    5.320981\n",
      "min      1.000000 -117.597000 -217.197000 -1157.300000    1.607200\n",
      "25%     38.250000  -68.404525 -129.727975  -854.675000    5.364125\n",
      "50%     59.000000  -26.119950  -63.042300  -635.700000    7.472200\n",
      "75%     76.750000   71.093400   36.395350  -137.062500   11.112350\n",
      "max     95.000000  107.907000  106.800400  2180.000000   34.094000\n",
      "Presence of null values:\n",
      "\n",
      "id             0\n",
      "image          0\n",
      "x_center       0\n",
      "y_center       0\n",
      "z_center       0\n",
      "radius_mm      0\n",
      "diameter_mm    0\n",
      "label          0\n",
      "dtype: int64\n"
     ]
    }
   ],
   "source": [
    "if __name__ == \"__main__\":\n",
    "    annotations = load_csv(\"anno_WorldCoord.csv\")\n",
    "    basic_statistics(annotations)\n",
    "    "
   ]
  },
  {
   "cell_type": "code",
   "execution_count": null,
   "metadata": {},
   "outputs": [],
   "source": []
  }
 ],
 "metadata": {
  "kernelspec": {
   "display_name": "Python 3",
   "language": "python",
   "name": "python3"
  },
  "language_info": {
   "codemirror_mode": {
    "name": "ipython",
    "version": 3
   },
   "file_extension": ".py",
   "mimetype": "text/x-python",
   "name": "python",
   "nbconvert_exporter": "python",
   "pygments_lexer": "ipython3",
   "version": "3.12.6"
  }
 },
 "nbformat": 4,
 "nbformat_minor": 2
}
