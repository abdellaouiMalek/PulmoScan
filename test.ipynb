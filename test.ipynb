{
 "cells": [
  {
   "cell_type": "code",
   "execution_count": null,
   "metadata": {
    "vscode": {
     "languageId": "plaintext"
    }
   },
   "outputs": [],
   "source": [
    "def resize_image(seriesuid, numpyImage, numpyOrigin, numpySpacing, annotations):\n",
    "    newAnnotations = convert_world_to_voxel_coord(seriesuid, numpyOrigin, numpySpacing, annotations)\n",
    "    RESIZE_SPACING = [1.0, 1.0, 1.0]\n",
    "    resize_factor = numpySpacing / RESIZE_SPACING\n",
    "\n",
    "    new_real_shape = numpyImage.shape * resize_factor\n",
    "    new_shape = np.round(new_real_shape)\n",
    "\n",
    "    real_resize = new_shape / numpyImage.shape\n",
    "\n",
    "    new_volume = ndimage.zoom(numpyImage, zoom=real_resize)\n",
    "\n",
    "    newOrigin = numpyOrigin * (RESIZE_SPACING / numpySpacing)\n",
    "\n",
    "    mask = annotations[\"seriesuid\"] == seriesuid\n",
    "    image_annotations = annotations[mask].copy()\n",
    "    if not image_annotations.empty:\n",
    "        newAnnotations = convert_world_to_voxel_coord(seriesuid, numpyOrigin, numpySpacing, annotations)\n",
    "        return new_volume, newOrigin, RESIZE_SPACING, newAnnotations\n",
    "    \n",
    "    return new_volume, newOrigin, RESIZE_SPACING, annotations"
   ]
  }
 ],
 "metadata": {
  "language_info": {
   "name": "python"
  }
 },
 "nbformat": 4,
 "nbformat_minor": 2
}
